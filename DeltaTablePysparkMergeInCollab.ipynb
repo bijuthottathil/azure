{
  "nbformat": 4,
  "nbformat_minor": 0,
  "metadata": {
    "colab": {
      "provenance": [],
      "authorship_tag": "ABX9TyN+y5GC/r6UhUlQzFffjSND",
      "include_colab_link": true
    },
    "kernelspec": {
      "name": "python3",
      "display_name": "Python 3"
    },
    "language_info": {
      "name": "python"
    }
  },
  "cells": [
    {
      "cell_type": "markdown",
      "metadata": {
        "id": "view-in-github",
        "colab_type": "text"
      },
      "source": [
        "<a href=\"https://colab.research.google.com/github/bijuthottathil/azure/blob/main/DeltaTablePysparkMergeInCollab.ipynb\" target=\"_parent\"><img src=\"https://colab.research.google.com/assets/colab-badge.svg\" alt=\"Open In Colab\"/></a>"
      ]
    },
    {
      "cell_type": "code",
      "execution_count": 40,
      "metadata": {
        "id": "wRVo5FfMu-7p"
      },
      "outputs": [],
      "source": [
        "# setting up Pyspark in Colab\n",
        "!apt-get install openjdk-11-jdk-headless -qq > /dev/null\n",
        "!wget -q https://archive.apache.org/dist/spark/spark-3.0.0/spark-3.0.0-bin-hadoop3.2.tgz\n",
        "!tar xf spark-3.0.0-bin-hadoop3.2.tgz\n",
        "!pip -q install findspark\n"
      ]
    },
    {
      "cell_type": "code",
      "source": [
        "# Setting up Delta table in Colab\n",
        "import os\n",
        "os.environ[\"JAVA_HOME\"] = \"/usr/lib/jvm/java-11-openjdk-amd64\"\n",
        "os.environ[\"SPARK_HOME\"] = \"/content/spark-3.0.0-bin-hadoop3.2\"\n",
        "os.environ['PYSPARK_SUBMIT_ARGS'] = '--packages io.delta:delta-core_2.12:0.7.0 --conf spark.sql.extensions=io.delta.sql.DeltaSparkSessionExtension --conf spark.sql.catalog.spark_catalog=org.apache.spark.sql.delta.catalog.DeltaCatalog pyspark-shell'\n",
        "import findspark\n",
        "findspark.init()\n",
        "from pyspark.sql import SparkSession\n",
        "from pyspark.sql.functions import *\n",
        "spark = SparkSession.builder.appName('delta_session').getOrCreate()\n",
        "from delta.tables import *"
      ],
      "metadata": {
        "id": "QP45NSYlvIAR"
      },
      "execution_count": 41,
      "outputs": []
    },
    {
      "cell_type": "code",
      "source": [
        "# Reading Source File\n",
        "source=spark.read.csv(\"/content/scd1source.csv\", header=True)"
      ],
      "metadata": {
        "id": "n2YPgvGkvcQM"
      },
      "execution_count": 42,
      "outputs": []
    },
    {
      "cell_type": "code",
      "source": [
        "# Creating Delta Table with partitions in Hive Meta store\n",
        "source.write.format(\"delta\").partitionBy(\"id\").mode(\"overwrite\").saveAsTable(\"source\")"
      ],
      "metadata": {
        "id": "z4URgDG6wzhJ"
      },
      "execution_count": 43,
      "outputs": []
    },
    {
      "cell_type": "code",
      "source": [
        "deltasource= DeltaTable.forPath(spark,\"/content/spark-warehouse/source\")"
      ],
      "metadata": {
        "id": "PsuFZcpPw8va"
      },
      "execution_count": 44,
      "outputs": []
    },
    {
      "cell_type": "code",
      "source": [
        "# Displaying Source Table Data\n",
        "deltasource.toDF().show()"
      ],
      "metadata": {
        "colab": {
          "base_uri": "https://localhost:8080/"
        },
        "id": "7mkeThnaxFy0",
        "outputId": "68f20e36-f7af-4a65-f970-aad646fc3b6b"
      },
      "execution_count": 45,
      "outputs": [
        {
          "output_type": "stream",
          "name": "stdout",
          "text": [
            "+---+--------+--------+\n",
            "| id|    name|location|\n",
            "+---+--------+--------+\n",
            "|  3|Vikranth|   India|\n",
            "|  2|    Mike| Germany|\n",
            "|  1|    Jack|   Italy|\n",
            "+---+--------+--------+\n",
            "\n"
          ]
        }
      ]
    },
    {
      "cell_type": "code",
      "source": [
        "# Reading Destination File\n",
        "dest=spark.read.csv(\"/content/scd1dest.csv\", header=True)"
      ],
      "metadata": {
        "id": "1Ar-27P8zlaS"
      },
      "execution_count": 46,
      "outputs": []
    },
    {
      "cell_type": "code",
      "source": [
        "# Creating Destination Delta Table with partitions in Hive Meta store\n",
        "dest.write.format(\"delta\").partitionBy(\"id\").mode(\"overwrite\").saveAsTable(\"dest\")"
      ],
      "metadata": {
        "id": "bXm-jVe_z86W"
      },
      "execution_count": 47,
      "outputs": []
    },
    {
      "cell_type": "code",
      "source": [
        "deltadest= DeltaTable.forPath(spark,\"/content/spark-warehouse/dest\")"
      ],
      "metadata": {
        "id": "ULcbaBWQ0C5v"
      },
      "execution_count": 48,
      "outputs": []
    },
    {
      "cell_type": "code",
      "source": [
        "# Showing destinatin table data before Merging Source Table Data\n",
        "dfdest=spark.sql(\"select * from dest order by id\")\n",
        "dfdest.show()"
      ],
      "metadata": {
        "colab": {
          "base_uri": "https://localhost:8080/"
        },
        "id": "SrVnDnil0Iav",
        "outputId": "55a06dd6-43cf-4a62-9173-957ec96a039e"
      },
      "execution_count": 55,
      "outputs": [
        {
          "output_type": "stream",
          "name": "stdout",
          "text": [
            "+---+--------+---------+\n",
            "| id|    name| location|\n",
            "+---+--------+---------+\n",
            "|  1|    Jack|    Italy|\n",
            "|  2|    Mike|  Germany|\n",
            "|  3|Vikranth|    India|\n",
            "|  4|     Raj|Hyderabad|\n",
            "|  5|  Prasad|     Pune|\n",
            "+---+--------+---------+\n",
            "\n"
          ]
        }
      ]
    },
    {
      "cell_type": "code",
      "source": [
        "# Execute Merge Statement\n",
        "mergesql=spark.sql(\"MERGE INTO dest  as t \" + \n",
        "\"USING source as  s on t.id=s.id \" +\n",
        "\"WHEN MATCHED THEN  UPDATE SET * WHEN NOT MATCHED THEN INSERT * \")\n",
        "\n"
      ],
      "metadata": {
        "id": "UTCz1sqlxb50"
      },
      "execution_count": 56,
      "outputs": []
    },
    {
      "cell_type": "code",
      "source": [
        "# Result after SCD Type 1 Merge\n",
        "dfdest=spark.sql(\"select * from dest order by id \")\n",
        "dfdest.show()"
      ],
      "metadata": {
        "colab": {
          "base_uri": "https://localhost:8080/"
        },
        "id": "N5owANAa6gbM",
        "outputId": "8b49aa57-6e3c-474d-f559-5da3e884b686"
      },
      "execution_count": 57,
      "outputs": [
        {
          "output_type": "stream",
          "name": "stdout",
          "text": [
            "+---+--------+---------+\n",
            "| id|    name| location|\n",
            "+---+--------+---------+\n",
            "|  1|    Jack|    Italy|\n",
            "|  2|    Mike|  Germany|\n",
            "|  3|Vikranth|    India|\n",
            "|  4|     Raj|Hyderabad|\n",
            "|  5|  Prasad|     Pune|\n",
            "+---+--------+---------+\n",
            "\n"
          ]
        }
      ]
    },
    {
      "cell_type": "code",
      "source": [],
      "metadata": {
        "id": "BBS55MzDxbwE"
      },
      "execution_count": 51,
      "outputs": []
    }
  ]
}